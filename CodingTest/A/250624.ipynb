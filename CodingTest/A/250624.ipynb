{
 "cells": [
  {
   "cell_type": "markdown",
   "id": "850c31ba",
   "metadata": {},
   "source": [
    "기초탄탄\n",
    ">> pip install ipykernel"
   ]
  },
  {
   "cell_type": "code",
   "execution_count": null,
   "id": "dac37249",
   "metadata": {},
   "outputs": [],
   "source": [
    "# csv 파일을 읽어서 df 변수에 pandas DataFrame 형태로 저장하기\n",
    "import pandas as pd\n",
    "df = pd.read_csv(\"datasets/auto-mpg.csv\")\n",
    "print(df)"
   ]
  },
  {
   "cell_type": "code",
   "execution_count": 5,
   "id": "1efd370b",
   "metadata": {},
   "outputs": [],
   "source": [
    "# DataFrame df 를 datasets/auto_mpg_clean.csv 로 저장하기\n",
    "df.to_csv(\"datasets/auto_mpg_clean.csv\")"
   ]
  },
  {
   "cell_type": "code",
   "execution_count": 7,
   "id": "12552080",
   "metadata": {},
   "outputs": [
    {
     "name": "stdout",
     "output_type": "stream",
     "text": [
      "      mpg  cylinders  displacement  horsepower  weight  acceleration  \\\n",
      "0    18.0          8         307.0       130.0    3504          12.0   \n",
      "1    15.0          8         350.0       165.0    3693          11.5   \n",
      "2    18.0          8         318.0       150.0    3436          11.0   \n",
      "3    16.0          8         304.0       150.0    3433          12.0   \n",
      "4    17.0          8         302.0       140.0    3449          10.5   \n",
      "..    ...        ...           ...         ...     ...           ...   \n",
      "393  27.0          4         140.0        86.0    2790          15.6   \n",
      "394  44.0          4          97.0        52.0    2130          24.6   \n",
      "395  32.0          4         135.0        84.0    2295          11.6   \n",
      "396  28.0          4         120.0        79.0    2625          18.6   \n",
      "397  31.0          4         119.0        82.0    2720          19.4   \n",
      "\n",
      "     model-year  \n",
      "0            70  \n",
      "1            70  \n",
      "2            70  \n",
      "3            70  \n",
      "4            70  \n",
      "..          ...  \n",
      "393          82  \n",
      "394          82  \n",
      "395          82  \n",
      "396          82  \n",
      "397          82  \n",
      "\n",
      "[398 rows x 7 columns]\n"
     ]
    }
   ],
   "source": [
    "# xlsx 파일을 pandas로 불러와서 변수 df_excel 에 저장힉\n",
    "df_excel = pd.read_excel(\"datasets/auto-mpg.xlsx\")\n",
    "print(df_excel)"
   ]
  },
  {
   "cell_type": "code",
   "execution_count": 8,
   "id": "838faf0c",
   "metadata": {},
   "outputs": [],
   "source": [
    "# DataFrame을 json JSON 형식으로 저장하기\n",
    "df.to_json(\"datasets/auto-mpg.json\", orient=\"records\")"
   ]
  },
  {
   "cell_type": "code",
   "execution_count": null,
   "id": "ced1c936",
   "metadata": {},
   "outputs": [],
   "source": [
    "# DataFrame 을 Pickle 파일로 저장하기\n",
    "df.to_pickle(\"datasets/auto-mpg.pkl\")\n",
    "# Pickle 이란?\n",
    "# Python 객체를 직렬화(serialize) 해서 저장한 파일로, \n",
    "# 메모리에 있는 파이썬 객체(리스트, 딕셔너리, 모델, 데이터프레임 등)를 파일로 저장하거나, 다시 불러오기 위해 사용하는 형식이다."
   ]
  },
  {
   "cell_type": "code",
   "execution_count": 13,
   "id": "d59f4d55",
   "metadata": {},
   "outputs": [
    {
     "name": "stdout",
     "output_type": "stream",
     "text": [
      "       model-year   mpg  cylinders  displacement  horsepower  weight  \\\n",
      "0              70  18.0          8         307.0       130.0    3504   \n",
      "1              70  18.0          8         307.0       165.0    3693   \n",
      "2              70  18.0          8         307.0       150.0    3436   \n",
      "3              70  18.0          8         307.0       150.0    3433   \n",
      "4              70  18.0          8         307.0       140.0    3449   \n",
      "...           ...   ...        ...           ...         ...     ...   \n",
      "12353          82  31.0          4         119.0        86.0    2790   \n",
      "12354          82  31.0          4         119.0        52.0    2130   \n",
      "12355          82  31.0          4         119.0        84.0    2295   \n",
      "12356          82  31.0          4         119.0        79.0    2625   \n",
      "12357          82  31.0          4         119.0        82.0    2720   \n",
      "\n",
      "       acceleration  \n",
      "0              12.0  \n",
      "1              11.5  \n",
      "2              11.0  \n",
      "3              12.0  \n",
      "4              10.5  \n",
      "...             ...  \n",
      "12353          15.6  \n",
      "12354          24.6  \n",
      "12355          11.6  \n",
      "12356          18.6  \n",
      "12357          19.4  \n",
      "\n",
      "[12358 rows x 7 columns]\n"
     ]
    }
   ],
   "source": [
    "# df 를 df1, df2 로 나누고 df_merge 를 생성하기.\n",
    "# df1: model_year, mpg, cylinders, displacement 컬럼만 포함\n",
    "# df2: model_year, horsepower, weight, acceleration 컬럼만 포함\n",
    "# df_merge: model_year 기준으로 inner join  \n",
    "df1 = df[[\"model-year\", \"mpg\", \"cylinders\", \"displacement\"]]\n",
    "df2 = df[[\"model-year\", \"horsepower\", \"weight\", \"acceleration\"]]\n",
    "df_merge = pd.merge(df1, df2, on=\"model-year\", how=\"inner\")\n",
    "# inner join 이란? 양쪽 모두에 존재하는 컬럼만 남기는 것, 즉 model_year 가 같은 데이터행만 남기는 것이다. \n",
    "print(df_merge)"
   ]
  },
  {
   "cell_type": "code",
   "execution_count": 17,
   "id": "3a91d8c3",
   "metadata": {},
   "outputs": [
    {
     "name": "stdout",
     "output_type": "stream",
     "text": [
      "       mpg  cylinders  horsepower  weight\n",
      "0      9.0          8       193.0    4732\n",
      "1     10.0          8       215.0    4615\n",
      "2     10.0          8       200.0    4376\n",
      "3     10.0          8       215.0    4615\n",
      "4     10.0          8       200.0    4376\n",
      "...    ...        ...         ...     ...\n",
      "3229  43.4          4        48.0    2335\n",
      "3230  44.0          4        52.0    2130\n",
      "3231  44.3          4        48.0    2085\n",
      "3232  44.6          4        67.0    1850\n",
      "3233  46.6          4        65.0    2110\n",
      "\n",
      "[3234 rows x 4 columns]\n"
     ]
    }
   ],
   "source": [
    "# df 에서 df3, df4 를 생성하고, origin 컬럼을 기준으로 outer join 하여 df_outer 에 저장하기.\n",
    "# df3: mpg, cylinders 컬럼만 포함\n",
    "# df4: mpg, horsepower, weight 컬럼만 포함\n",
    "# df_outer: origin 컬럼을 기준으로 outer join\n",
    "df3 = df[[\"mpg\", \"cylinders\"]]\n",
    "df4 = df[[\"mpg\", \"horsepower\", \"weight\"]]\n",
    "df_outer = pd.merge(df3, df4, on=\"mpg\", how=\"outer\")\n",
    "print(df_outer)"
   ]
  },
  {
   "cell_type": "code",
   "execution_count": null,
   "id": "6531e42f",
   "metadata": {},
   "outputs": [
    {
     "name": "stdout",
     "output_type": "stream",
     "text": [
      "      mpg  cylinders  displacement  horsepower  weight  acceleration\n",
      "0    18.0        8.0         307.0         NaN     NaN           NaN\n",
      "1    15.0        8.0         350.0         NaN     NaN           NaN\n",
      "2    18.0        8.0         318.0         NaN     NaN           NaN\n",
      "3    16.0        8.0         304.0         NaN     NaN           NaN\n",
      "4    17.0        8.0         302.0         NaN     NaN           NaN\n",
      "..    ...        ...           ...         ...     ...           ...\n",
      "393   NaN        NaN           NaN        86.0  2790.0          15.6\n",
      "394   NaN        NaN           NaN        52.0  2130.0          24.6\n",
      "395   NaN        NaN           NaN        84.0  2295.0          11.6\n",
      "396   NaN        NaN           NaN        79.0  2625.0          18.6\n",
      "397   NaN        NaN           NaN        82.0  2720.0          19.4\n",
      "\n",
      "[796 rows x 6 columns]\n"
     ]
    }
   ],
   "source": [
    "# DataFrame 결합하기\n",
    "df5 = df[[\"mpg\", \"cylinders\", \"displacement\"]]\n",
    "df6 = df[[\"horsepower\", \"weight\", \"acceleration\"]]\n",
    "df_concat = pd.concat([df5, df6], axis=0)\n",
    "# axis=0 은 아래로 붙이는 것이다. \n",
    "print(df_concat) # 결과를 보면, 의미 없이 단순하게 붙어있다."
   ]
  },
  {
   "cell_type": "code",
   "execution_count": null,
   "id": "3dcde640",
   "metadata": {},
   "outputs": [
    {
     "name": "stdout",
     "output_type": "stream",
     "text": [
      "      mpg  cylinders  displacement  horsepower  weight  acceleration\n",
      "0    18.0          8         307.0       130.0    3504          12.0\n",
      "1    15.0          8         350.0       165.0    3693          11.5\n",
      "2    18.0          8         318.0       150.0    3436          11.0\n",
      "3    16.0          8         304.0       150.0    3433          12.0\n",
      "4    17.0          8         302.0       140.0    3449          10.5\n",
      "..    ...        ...           ...         ...     ...           ...\n",
      "393  27.0          4         140.0        86.0    2790          15.6\n",
      "394  44.0          4          97.0        52.0    2130          24.6\n",
      "395  32.0          4         135.0        84.0    2295          11.6\n",
      "396  28.0          4         120.0        79.0    2625          18.6\n",
      "397  31.0          4         119.0        82.0    2720          19.4\n",
      "\n",
      "[398 rows x 6 columns]\n"
     ]
    }
   ],
   "source": [
    "# DataFrame 좌우로 결합하기\n",
    "df_concat_col = pd.concat([df5, df6], axis=1)\n",
    "print(df_concat_col)\n",
    "# 각 행이 순서대로 같은 데이터를 나타내고 있다고 보장 될 때 사용할 수 있다.... "
   ]
  }
 ],
 "metadata": {
  "kernelspec": {
   "display_name": "venv312",
   "language": "python",
   "name": "python3"
  },
  "language_info": {
   "codemirror_mode": {
    "name": "ipython",
    "version": 3
   },
   "file_extension": ".py",
   "mimetype": "text/x-python",
   "name": "python",
   "nbconvert_exporter": "python",
   "pygments_lexer": "ipython3",
   "version": "3.12.1"
  }
 },
 "nbformat": 4,
 "nbformat_minor": 5
}
